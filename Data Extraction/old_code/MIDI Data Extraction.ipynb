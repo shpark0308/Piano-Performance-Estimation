{
 "cells": [
  {
   "cell_type": "markdown",
   "id": "ad84309f",
   "metadata": {},
   "source": [
    "## Ⅰ. MIDI Data"
   ]
  },
  {
   "cell_type": "markdown",
   "id": "c1dcb454",
   "metadata": {},
   "source": [
    "### 1. Data"
   ]
  },
  {
   "cell_type": "markdown",
   "id": "81ef9b69",
   "metadata": {},
   "source": [
    "#### [1]. 연구에 필요한 데이터\n",
    "```\n",
    "▫️ MIDI Track\n",
    "    - MIDI event 순서\n",
    "    - 볼륨\n",
    "    - 템포 변화\n",
    "    - 박자 ( MetaMessage )\n",
    "▫️ Message ( Event )\n",
    "    - event ( note on / off, aftertouch ( 손가락 압력 감지 ) )\n",
    "    - channel ( 16개 채널 ) ( 사용자가 규정할 수 있음 )\n",
    "        ▪️ 멜로디 채널 ( 1 ~ 9 ) : 멜로디 악기, 피아노, 기타, 트럼펫 등 악기\n",
    "        ▪️ 베이스 채널 ( 2 ) : 주로 낮은 음역대의 악기\n",
    "        ▪️ 드럼 채널 ( 10 )\n",
    "        ▪️ 화음 채널 ( 11 ~ 13 )\n",
    "        ▪️ 보컬 채널 ( 14 )\n",
    "    - note ( 0 ~ 127개 ): 연주할 음표의 MIDI 노트 넘버 ( 특정 음 )\n",
    "    - velocity ( 0 ~ 127개 ) : 음향의 강도와 세기\n",
    "        ▪️ 높은 값 일수록, 더 강하고 세게 연주된 음\n",
    "    - time\n",
    "        ▪️ MIDI event 가 트랙에 삽입된 시간, 64 tick 이후 발생\n",
    "```"
   ]
  },
  {
   "cell_type": "markdown",
   "id": "2914c28f",
   "metadata": {},
   "source": [
    "```\n",
    "▫️ 요약\n",
    "    (1). 소리의 크기 ( 볼륨 )\n",
    "    (2). 음표\n",
    "    (3). 화음\n",
    "    (4). 강도 / 세기\n",
    "    (5). time\n",
    "    (6). 박자\n",
    "    (7). 템포 변화\n",
    "```"
   ]
  },
  {
   "cell_type": "markdown",
   "id": "a771100e",
   "metadata": {},
   "source": [
    "#### [2]. 논외\n",
    "```\n",
    "▫️ MIDI Track\n",
    "    - 악기 변경 순서 ( Piano )\n",
    "```"
   ]
  },
  {
   "cell_type": "markdown",
   "id": "1053a655",
   "metadata": {},
   "source": [
    "#### [3]. 관련 사이트\n",
    "- MIDI Number\n",
    "    - https://newt.phys.unsw.edu.au/jw/notes.html"
   ]
  },
  {
   "cell_type": "markdown",
   "id": "b81bc89e",
   "metadata": {},
   "source": [
    "### 2. 해야할 것"
   ]
  },
  {
   "cell_type": "markdown",
   "id": "d15d958e",
   "metadata": {},
   "source": [
    "#### [1]. 리스트\n",
    "```\n",
    "(1). 기준 세우기\n",
    "    - Track 의 기준은 어떤 것으로 선정할 것인지 ( 화음 )\n",
    "    - channel 의 기준은 어떻게 선정할 것인가\n",
    "```"
   ]
  },
  {
   "cell_type": "code",
   "execution_count": null,
   "id": "a04e7faa",
   "metadata": {},
   "outputs": [],
   "source": []
  },
  {
   "cell_type": "markdown",
   "id": "08812bb5",
   "metadata": {},
   "source": [
    "## Ⅱ. Extract data From MIDI FILES"
   ]
  },
  {
   "cell_type": "markdown",
   "id": "e577890e",
   "metadata": {},
   "source": [
    "### 1. MIdiFiles"
   ]
  },
  {
   "cell_type": "markdown",
   "id": "53268079",
   "metadata": {},
   "source": [
    "#### [0]. 참조 사이트\n",
    "- https://www.twilio.com/blog/working-with-midi-data-in-python-using-mido\n",
    "- https://pypi.org/project/mido/"
   ]
  },
  {
   "cell_type": "markdown",
   "id": "8581cba0",
   "metadata": {},
   "source": [
    "#### [1]. Mido 설치하기"
   ]
  },
  {
   "cell_type": "code",
   "execution_count": 1,
   "id": "a90b42a3",
   "metadata": {},
   "outputs": [],
   "source": [
    "# pip install mido"
   ]
  },
  {
   "cell_type": "markdown",
   "id": "9df4ea18",
   "metadata": {},
   "source": [
    "#### [2]. 파일 불러오기"
   ]
  },
  {
   "cell_type": "code",
   "execution_count": 2,
   "id": "ed7db0a0",
   "metadata": {},
   "outputs": [],
   "source": [
    "from mido import MidiFile\n",
    "\n",
    "mid = MidiFile('MIDI_sample.mid', clip = True)\n",
    "\n",
    "# (1). mid 파일 정보\n",
    "# print(mid)\n",
    "\n",
    "# (2). mid track 정보\n",
    "# print(len(mid.tracks)) // 6\n",
    "\n",
    "#for track in mid.tracks:\n",
    "#    print(track)\n",
    "\n",
    "# (3). mid track 정보 접근\n",
    "# print(len(mid.tracks[1])) // 303\n",
    "# print(mid.tracks[1][33])\n",
    "# print(mid.tracks[1][33].note)"
   ]
  },
  {
   "cell_type": "markdown",
   "id": "dc0fd299",
   "metadata": {},
   "source": [
    "```\n",
    "▫️ MidiFile(type=1, ticks_per_beat=480, tracks=[...]) \n",
    "    (0). 총 128개의 음표 ( 0 ~ 127개의 velocity 를 가짐 )\n",
    "    (1). type = 1\n",
    "        * 1 : 모든 track 이 동시에 시작 ( 동기식 )\n",
    "    (2). tracks ( MIDI 트랙 )\n",
    "        * 음악의 다양한 부분을 구성하는 (( 구성 요소 ))\n",
    "        * 특정한 부분 / 섹션을 의미 ( 특정한 악기 / 멜로티 라인, 리듬 )\n",
    "        * 음악의 여러 측면을 나누어서 표현\n",
    "        * ex. [ 하나의 MIDI 파일 ] = (( 멜로디 | 베이스 | 드럼 | 화음 구성 )) ⇒ 전체 구성\n",
    "        * [기준] ( 음악의 작성자, MIDI 파일 생성 SW 에 따라 결정 )\n",
    "            - 악기 / 역할 별 트랙\n",
    "            - 악기 그룹별 트랙\n",
    "            - 보컬 트랙 등등\n",
    "        * [INFO]\n",
    "            - MIDI event 순서\n",
    "            - 음표\n",
    "            - 악기 변경 여부\n",
    "            - 볼륨 조절\n",
    "            - 템포 변화\n",
    "```"
   ]
  },
  {
   "cell_type": "markdown",
   "id": "c01712a9",
   "metadata": {},
   "source": [
    "```\n",
    "▫️ MidiTrack([MetaMessage( .. )]\n",
    "    (0). ( 트랙의 이름, 템포, 박자 )\n",
    "    (1). type = 1\n",
    "        * 1 : 모든 track 이 동시에 시작 ( 동기식 )\n",
    "    (2). tracks ( MIDI 트랙 )\n",
    "        * 음악의 다양한 부분을 구성하는 (( 구성 요소 ))\n",
    "        * 특정한 부분 / 섹션을 의미 ( 특정한 악기 / 멜로티 라인, 리듬 )\n",
    "        * 음악의 여러 측면을 나누어서 표현\n",
    "        * ex. [ 하나의 MIDI 파일 ] = (( 멜로디 | 베이스 | 드럼 | 화음 구성 )) ⇒ 전체 구성\n",
    "        * [기준] ( 음악의 작성자, MIDI 파일 생성 SW 에 따라 결정 )\n",
    "            - 악기 / 역할 별 트랙\n",
    "            - 악기 그룹별 트랙\n",
    "            - 보컬 트랙 등등\n",
    "        * [INFO]\n",
    "            - MIDI event 순서\n",
    "            - 음표\n",
    "            - 악기 변경 여부\n",
    "            - 볼륨 조절\n",
    "            - 템포 변화\n",
    "▫️ MidiTrack([Message( .. )]\n",
    "    (0). 이벤트\n",
    "```"
   ]
  },
  {
   "cell_type": "markdown",
   "id": "3e9b4c56",
   "metadata": {},
   "source": [
    "#### [3]. MIDI Data 추출하기"
   ]
  },
  {
   "cell_type": "code",
   "execution_count": 3,
   "id": "9a5eda17",
   "metadata": {},
   "outputs": [
    {
     "name": "stdout",
     "output_type": "stream",
     "text": [
      "[1]. msg_1 :  note_off channel=0 note=45 velocity=64 time=164\n",
      "[1]. msg_1->note :  45  msg_1->velocity :  64  msg_1->time :  164\n",
      "[2]. msg_2 :  note_on channel=0 note=60 velocity=32 time=0\n",
      "[2]. msg_2->note :  60  msg_2->velocity :  32  msg_2->time :  0\n"
     ]
    }
   ],
   "source": [
    "from mido import MidiFile\n",
    "from mido import Message ## [ type, note, velocity, time]\n",
    "\n",
    "# (1) msg_1 from MidiFile\n",
    "msg_1 = mid.tracks[1][33]\n",
    "print(\"[1]. msg_1 : \", msg_1)\n",
    "print(\"[1]. msg_1->note : \", msg_1.note, \" msg_1->velocity : \", msg_1.velocity, \" msg_1->time : \",msg_1.time)\n",
    "\n",
    "# (2). msg_2 from Message\n",
    "msg_2 = Message('note_on', note = 60, velocity = 32)\n",
    "print(\"[2]. msg_2 : \", msg_2)\n",
    "print(\"[2]. msg_2->note : \", msg_2.note, \" msg_2->velocity : \", msg_2.velocity, \" msg_2->time : \",msg_2.time)\n"
   ]
  },
  {
   "cell_type": "markdown",
   "id": "833653a4",
   "metadata": {},
   "source": [
    "#### MIDI Messages 를 Bytes() 로 표현"
   ]
  },
  {
   "cell_type": "code",
   "execution_count": 4,
   "id": "9f887f1b",
   "metadata": {},
   "outputs": [
    {
     "name": "stdout",
     "output_type": "stream",
     "text": [
      "msg_1_byte :  [128, 45, 64]\n",
      "msg_2_byte :  [144, 60, 32]\n"
     ]
    }
   ],
   "source": [
    "msg_1_byte = msg_1.bytes()\n",
    "msg_2_byte = msg_2.bytes()\n",
    "\n",
    "print(\"msg_1_byte : \", msg_1_byte)\n",
    "print(\"msg_2_byte : \", msg_2_byte)"
   ]
  },
  {
   "cell_type": "markdown",
   "id": "c32da94c",
   "metadata": {},
   "source": [
    "#### MIDI Message Copy"
   ]
  },
  {
   "cell_type": "code",
   "execution_count": 5,
   "id": "7319163a",
   "metadata": {},
   "outputs": [
    {
     "name": "stdout",
     "output_type": "stream",
     "text": [
      "[3]. msg_3 :  note_on channel=4 note=60 velocity=32 time=0\n",
      "[3]. msg_3_byte :  [148, 60, 32]\n"
     ]
    }
   ],
   "source": [
    "msg_3 = msg_2.copy(channel=4)\n",
    "msg_3_byte = msg_3.bytes()\n",
    "\n",
    "print(\"[3]. msg_3 : \", msg_3)\n",
    "print(\"[3]. msg_3_byte : \", msg_3_byte)"
   ]
  },
  {
   "cell_type": "markdown",
   "id": "e03fc1b9",
   "metadata": {},
   "source": [
    "#### [4]. 중복된 트랙 제거\n",
    "- 불필요한 트랙 제거\n",
    "    + 동일한 트랙 : 정확히 동일한 메시지 수를 가진다는 가정"
   ]
  },
  {
   "cell_type": "code",
   "execution_count": null,
   "id": "6688e7a8",
   "metadata": {},
   "outputs": [],
   "source": [
    "message_numbers = []\n",
    "duplicates = []\n",
    "\n",
    "for track in mid.tracks:\n",
    "    if len(track) in message_numbers:\n",
    "        duplicates.append(track)\n",
    "    else:\n",
    "        message_numbers.append(len(track))\n",
    "        \n",
    "for track in duplicates:\n",
    "    mid.tracks.remove(track)\n",
    "    \n",
    "print(\"message_numbers : \", message_numbers)\n",
    "print(\"duplicates : \", duplicates)\n",
    "\n",
    "# mid.save('MIDI_sample_new_version.mid')"
   ]
  },
  {
   "cell_type": "markdown",
   "id": "e30e9893",
   "metadata": {},
   "source": [
    "#### [5]. 새로운 음악 생성 ( 리믹스 )"
   ]
  },
  {
   "cell_type": "code",
   "execution_count": 16,
   "id": "81536356",
   "metadata": {},
   "outputs": [],
   "source": [
    "cv1 = MidiFile('MIDI_sample.mid', clip=True)\n",
    "cv2 = MidiFile('VampireKillerCV1.mid', clip=True)\n",
    "\n",
    "# remove\n",
    "del cv1.tracks[2:5]\n",
    "# del cv1.tracks[3]\n",
    "\n",
    "# append\n",
    "cv1.tracks.append(cv2.tracks[4])\n",
    "cv1.tracks.append(cv2.tracks[6])\n",
    "\n",
    "cv1.save('MIDI_sample_new_version.mid')"
   ]
  },
  {
   "cell_type": "code",
   "execution_count": 17,
   "id": "9d25f036",
   "metadata": {},
   "outputs": [
    {
     "name": "stdout",
     "output_type": "stream",
     "text": [
      "9\n"
     ]
    }
   ],
   "source": [
    "print(len(cv2.tracks))"
   ]
  },
  {
   "cell_type": "markdown",
   "id": "fa5097a3",
   "metadata": {},
   "source": [
    "### 2. Audio to Midi"
   ]
  },
  {
   "cell_type": "markdown",
   "id": "fad25e8f",
   "metadata": {},
   "source": [
    "#### [0]. 참조 사이트\n",
    "- https://pypi.org/project/audio-to-midi/\n",
    "- https://pypi.org/project/sound-to-midi/"
   ]
  },
  {
   "cell_type": "code",
   "execution_count": 20,
   "id": "d4f57785",
   "metadata": {},
   "outputs": [],
   "source": [
    "# pip install --upgrade audio-to-midi"
   ]
  },
  {
   "cell_type": "code",
   "execution_count": 36,
   "id": "c6e17271",
   "metadata": {},
   "outputs": [
    {
     "name": "stdout",
     "output_type": "stream",
     "text": [
      "audio-to-midi ./sample_wavfile.wav -o sample_midfile.mid -b 120 -t 30\n"
     ]
    }
   ],
   "source": [
    "import subprocess\n",
    "import os\n",
    "\n",
    "command = \"audio-to-midi\"\n",
    "wav_file = os.path.join(\"./\", \"sample_wavfile.wav\")\n",
    "mid_output = \"sample_midfile.mid\"\n",
    "beat = 120\n",
    "time_window = 30\n",
    "\n",
    "command_list = [command, wav_file, \"-o\", mid_output, \"-b\", str(beat), \"-t\", str(time_window)]\n",
    "command_str = ' '.join(command_list)\n",
    "\n",
    "print(command_str)"
   ]
  },
  {
   "cell_type": "markdown",
   "id": "719745dc",
   "metadata": {},
   "source": [
    "#### OS 에서 command 실행하가"
   ]
  },
  {
   "cell_type": "code",
   "execution_count": 39,
   "id": "266c41b1",
   "metadata": {},
   "outputs": [],
   "source": [
    "try:\n",
    "    subprocess.run(command_str, shell=True, check = True)\n",
    "except subprocess.CalledProcessError as e:\n",
    "    print(f\"An error occured: {e}\")"
   ]
  },
  {
   "cell_type": "code",
   "execution_count": null,
   "id": "d19cced1",
   "metadata": {},
   "outputs": [],
   "source": []
  }
 ],
 "metadata": {
  "kernelspec": {
   "display_name": "Python 3 (ipykernel)",
   "language": "python",
   "name": "python3"
  },
  "language_info": {
   "codemirror_mode": {
    "name": "ipython",
    "version": 3
   },
   "file_extension": ".py",
   "mimetype": "text/x-python",
   "name": "python",
   "nbconvert_exporter": "python",
   "pygments_lexer": "ipython3",
   "version": "3.7.9"
  }
 },
 "nbformat": 4,
 "nbformat_minor": 5
}
