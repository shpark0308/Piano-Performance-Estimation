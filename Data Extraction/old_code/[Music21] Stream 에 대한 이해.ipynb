{
 "cells": [
  {
   "cell_type": "code",
   "execution_count": 1,
   "id": "a597e74c",
   "metadata": {},
   "outputs": [],
   "source": [
    "# Ⅰ. Hand Craft Model"
   ]
  },
  {
   "cell_type": "code",
   "execution_count": 3,
   "id": "02bd760f",
   "metadata": {},
   "outputs": [
    {
     "name": "stdout",
     "output_type": "stream",
     "text": [
      "<music21.stream.Score 0x2210b6ca888>\n"
     ]
    }
   ],
   "source": [
    "from music21 import *\n",
    "\n",
    "score = converter.parse('midi_data/a_Pirates of the Caribbean - He\\'s a Pirate.mid')\n",
    "print(score)"
   ]
  },
  {
   "cell_type": "code",
   "execution_count": 5,
   "id": "acfe3e39",
   "metadata": {},
   "outputs": [
    {
     "name": "stdout",
     "output_type": "stream",
     "text": [
      "Pitches: [<music21.pitch.Pitch D4>, <music21.pitch.Pitch D4>, <music21.pitch.Pitch D4>, <music21.pitch.Pitch D4>, <music21.pitch.Pitch D4>, <music21.pitch.Pitch D4>, <music21.pitch.Pitch D4>, <music21.pitch.Pitch D4>, <music21.pitch.Pitch D4>, <music21.pitch.Pitch D4>, <music21.pitch.Pitch D4>, <music21.pitch.Pitch D4>, <music21.pitch.Pitch D4>, <music21.pitch.Pitch D4>, <music21.pitch.Pitch D4>, <music21.pitch.Pitch D4>, <music21.pitch.Pitch D4>, <music21.pitch.Pitch D4>, <music21.pitch.Pitch D4>, <music21.pitch.Pitch D4>, <music21.pitch.Pitch D4>, <music21.pitch.Pitch D4>, <music21.pitch.Pitch D4>, <music21.pitch.Pitch D4>, <music21.pitch.Pitch D4>, <music21.pitch.Pitch A3>, <music21.pitch.Pitch C4>, <music21.pitch.Pitch A3>, <music21.pitch.Pitch C4>, <music21.pitch.Pitch C4>, <music21.pitch.Pitch A3>, <music21.pitch.Pitch C4>, <music21.pitch.Pitch D4>, <music21.pitch.Pitch D4>, <music21.pitch.Pitch E4>, <music21.pitch.Pitch D4>, <music21.pitch.Pitch D4>, <music21.pitch.Pitch F4>, <music21.pitch.Pitch A4>, <music21.pitch.Pitch C5>, <music21.pitch.Pitch A4>, <music21.pitch.Pitch C5>, <music21.pitch.Pitch C5>, <music21.pitch.Pitch A4>, <music21.pitch.Pitch C5>, <music21.pitch.Pitch D5>, <music21.pitch.Pitch D5>, <music21.pitch.Pitch E5>, <music21.pitch.Pitch D5>, <music21.pitch.Pitch D5>, <music21.pitch.Pitch F5>, <music21.pitch.Pitch D5>, <music21.pitch.Pitch C#5>, <music21.pitch.Pitch F5>, <music21.pitch.Pitch F5>, <music21.pitch.Pitch F5>, <music21.pitch.Pitch A4>, <music21.pitch.Pitch B-4>, <music21.pitch.Pitch F4>, <music21.pitch.Pitch G4>, <music21.pitch.Pitch D4>, <music21.pitch.Pitch E4>, <music21.pitch.Pitch G4>, <music21.pitch.Pitch A4>, <music21.pitch.Pitch F4>, <music21.pitch.Pitch G4>, <music21.pitch.Pitch G4>, <music21.pitch.Pitch F4>, <music21.pitch.Pitch E4>, <music21.pitch.Pitch C4>, <music21.pitch.Pitch D5>, <music21.pitch.Pitch E5>, <music21.pitch.Pitch E5>, <music21.pitch.Pitch F5>, <music21.pitch.Pitch D5>, <music21.pitch.Pitch E5>, <music21.pitch.Pitch G5>, <music21.pitch.Pitch E5>, <music21.pitch.Pitch E5>, <music21.pitch.Pitch C#5>, <music21.pitch.Pitch G5>, <music21.pitch.Pitch D5>, <music21.pitch.Pitch E5>, <music21.pitch.Pitch F5>, <music21.pitch.Pitch D5>, <music21.pitch.Pitch E5>, <music21.pitch.Pitch F5>, <music21.pitch.Pitch D5>, <music21.pitch.Pitch E5>, <music21.pitch.Pitch F5>, <music21.pitch.Pitch G5>, <music21.pitch.Pitch D4>, <music21.pitch.Pitch D4>]\n",
      "Decibels: [110, 110, 110, 110, 110, 110, 110, 110, 110, 110, 110, 110, 110, 110, 110, 110, 110, 110, 110, 110, 110, 110, 110, 110, 110, 110, 110, 110, 110, 110, 110, 110, 110, 110, 110, 110, 110, 110, 110, 110, 110, 110, 110, 110, 110, 110, 110, 110, 110, 110, 110, 110, 110, 110, 110, 110, 110, 110, 110, 110, 110, 110, 110, 110, 110, 110, 110, 110, 110, 110, 110, 110, 110, 110, 110, 110, 110, 110, 110, 110, 110, 110, 110, 110, 110, 110, 110, 110, 110, 110, 110, 110, 110]\n",
      "Speeds: [0.22499999999999998, 0.15, 0.22499999999999998, 0.15, 0.22499999999999998, 0.15, 0.15, 0.15, 0.15, 0.22499999999999998, 0.15, 0.22499999999999998, 0.15, 0.22499999999999998, 0.15, 0.15, 0.15, 0.15, 0.22499999999999998, 0.15, 0.22499999999999998, 0.15, 0.22499999999999998, 0.15, 0.15, 0.15, 0.15, 0.15, 0.15, 0.15, 0.15, 0.15, 0.22499999999999998, 0.15, 0.15, 0.22499999999999998, 0.15, 0.15, 0.15, 0.15, 0.15, 0.15, 0.15, 0.15, 0.15, 0.22499999999999998, 0.15, 0.15, 0.22499999999999998, 0.15, 0.15, 0.15, 0.15, 0.15, 0.15, 0.15, 0.15, 0.15, 0.15, 0.15, 0.15, 0.15, 0.15, 0.15, 0.15, 0.15, 0.15, 0.15, 0.15, 0.15, 0.15, 0.15, 0.15, 0.15, 0.15, 0.15, 0.15, 0.15, 0.15, 0.15, 0.15, 0.15, 0.15, 0.15, 0.15, 0.15, 0.15, 0.15, 0.15, 0.15, 0.15, 0.8999999999999999, 0.22499999999999998]\n",
      "Tempos: [200.0, 200.0]\n"
     ]
    }
   ],
   "source": [
    "# 피치 추출\n",
    "pitches = []\n",
    "for element in score.recurse().notes:\n",
    "    if element.isNote:\n",
    "        pitches.append(element.pitch)\n",
    "\n",
    "print(\"Pitches:\", pitches)\n",
    "\n",
    "# 디셈벨(음량) 추출\n",
    "decibels = []\n",
    "for element in score.recurse().notes:\n",
    "    if element.isNote:\n",
    "        decibels.append(element.volume.velocity)\n",
    "\n",
    "print(\"Decibels:\", decibels)\n",
    "\n",
    "# 음정의 speed 추출\n",
    "speeds = []\n",
    "for element in score.recurse().notes:\n",
    "    if element.isNote:\n",
    "        speeds.append(element.seconds)\n",
    "\n",
    "print(\"Speeds:\", speeds)\n",
    "\n",
    "# 템포 추출\n",
    "tempos = []\n",
    "for element in score.recurse().getElementsByClass('MetronomeMark'):\n",
    "    tempos.append(element.number)\n",
    "\n",
    "print(\"Tempos:\", tempos)"
   ]
  },
  {
   "cell_type": "code",
   "execution_count": 37,
   "id": "3c9bbb78",
   "metadata": {},
   "outputs": [
    {
     "name": "stdout",
     "output_type": "stream",
     "text": [
      "Pitches: [<music21.pitch.Pitch D4>, <music21.pitch.Pitch D4>, <music21.pitch.Pitch D4>, <music21.pitch.Pitch D4>, <music21.pitch.Pitch D4>, <music21.pitch.Pitch D4>, <music21.pitch.Pitch D4>, <music21.pitch.Pitch D4>, <music21.pitch.Pitch D4>, <music21.pitch.Pitch D4>, <music21.pitch.Pitch D4>, <music21.pitch.Pitch D4>, <music21.pitch.Pitch D4>, <music21.pitch.Pitch D4>, <music21.pitch.Pitch D4>, <music21.pitch.Pitch D4>, <music21.pitch.Pitch D4>, <music21.pitch.Pitch D4>, <music21.pitch.Pitch D4>, <music21.pitch.Pitch D4>, <music21.pitch.Pitch D4>, <music21.pitch.Pitch D4>, <music21.pitch.Pitch D4>, <music21.pitch.Pitch D4>, <music21.pitch.Pitch D4>, <music21.pitch.Pitch A3>, <music21.pitch.Pitch C4>, <music21.pitch.Pitch A3>, <music21.pitch.Pitch C4>, <music21.pitch.Pitch C4>, <music21.pitch.Pitch A3>, <music21.pitch.Pitch C4>, <music21.pitch.Pitch D4>, <music21.pitch.Pitch D4>, <music21.pitch.Pitch E4>, <music21.pitch.Pitch D4>, <music21.pitch.Pitch D4>, <music21.pitch.Pitch F4>, <music21.pitch.Pitch A4>, <music21.pitch.Pitch C5>, <music21.pitch.Pitch A4>, <music21.pitch.Pitch C5>, <music21.pitch.Pitch C5>, <music21.pitch.Pitch A4>, <music21.pitch.Pitch C5>, <music21.pitch.Pitch D5>, <music21.pitch.Pitch D5>, <music21.pitch.Pitch E5>, <music21.pitch.Pitch D5>, <music21.pitch.Pitch D5>, <music21.pitch.Pitch F5>, <music21.pitch.Pitch D5>, <music21.pitch.Pitch C#5>, <music21.pitch.Pitch F5>, <music21.pitch.Pitch F5>, <music21.pitch.Pitch F5>, <music21.pitch.Pitch A4>, <music21.pitch.Pitch B-4>, <music21.pitch.Pitch F4>, <music21.pitch.Pitch G4>, <music21.pitch.Pitch D4>, <music21.pitch.Pitch E4>, <music21.pitch.Pitch G4>, <music21.pitch.Pitch A4>, <music21.pitch.Pitch F4>, <music21.pitch.Pitch G4>, <music21.pitch.Pitch G4>, <music21.pitch.Pitch F4>, <music21.pitch.Pitch E4>, <music21.pitch.Pitch C4>, <music21.pitch.Pitch D5>, <music21.pitch.Pitch E5>, <music21.pitch.Pitch E5>, <music21.pitch.Pitch F5>, <music21.pitch.Pitch D5>, <music21.pitch.Pitch E5>, <music21.pitch.Pitch G5>, <music21.pitch.Pitch E5>, <music21.pitch.Pitch E5>, <music21.pitch.Pitch C#5>, <music21.pitch.Pitch G5>, <music21.pitch.Pitch D5>, <music21.pitch.Pitch E5>, <music21.pitch.Pitch F5>, <music21.pitch.Pitch D5>, <music21.pitch.Pitch E5>, <music21.pitch.Pitch F5>, <music21.pitch.Pitch D5>, <music21.pitch.Pitch E5>, <music21.pitch.Pitch F5>, <music21.pitch.Pitch G5>, <music21.pitch.Pitch D4>, <music21.pitch.Pitch D4>]\n",
      "=======================\n",
      "Pitches: []\n"
     ]
    }
   ],
   "source": [
    "# 피치 추출\n",
    "pitches = []\n",
    "for element in score.recurse().notes:\n",
    "    if element.isNote:\n",
    "        pitches.append(element.pitch)\n",
    "\n",
    "print(\"Pitches:\", pitches)\n",
    "\n",
    "pitches2 = []\n",
    "for element in score.parts[0].notes:\n",
    "    print(element)\n",
    "    if element.isNote:\n",
    "        pitches2.append(element.pitch)\n",
    "\n",
    "\n",
    "print(\"=======================\")\n",
    "print(\"Pitches:\", pitches2)\n"
   ]
  },
  {
   "cell_type": "code",
   "execution_count": 7,
   "id": "38a97260",
   "metadata": {},
   "outputs": [
    {
     "data": {
      "text/plain": [
       "<music21.stream.iterator.RecursiveIterator for Part:0x2210b673808 @:0>"
      ]
     },
     "execution_count": 7,
     "metadata": {},
     "output_type": "execute_result"
    }
   ],
   "source": [
    "score.parts[0].recurse().notes"
   ]
  },
  {
   "cell_type": "code",
   "execution_count": 39,
   "id": "7c428e54",
   "metadata": {},
   "outputs": [
    {
     "name": "stdout",
     "output_type": "stream",
     "text": [
      "274\n",
      "0\n",
      "350\n",
      "0\n"
     ]
    }
   ],
   "source": [
    "print(len(score.parts[0].recurse().notes))\n",
    "print(len(score.parts[0].notes))\n",
    "print(len(score.parts[1].recurse().notes))\n",
    "print(len(score.parts[1].notes))"
   ]
  },
  {
   "cell_type": "code",
   "execution_count": 28,
   "id": "238cd2ba",
   "metadata": {},
   "outputs": [
    {
     "name": "stdout",
     "output_type": "stream",
     "text": [
      "87\n"
     ]
    }
   ],
   "source": [
    "print(len(score.parts[0]))"
   ]
  },
  {
   "cell_type": "code",
   "execution_count": 31,
   "id": "604ea897",
   "metadata": {},
   "outputs": [
    {
     "name": "stdout",
     "output_type": "stream",
     "text": [
      "93\n"
     ]
    }
   ],
   "source": [
    "print(len(pitches))"
   ]
  },
  {
   "cell_type": "code",
   "execution_count": 6,
   "id": "fd9cf3e5",
   "metadata": {},
   "outputs": [
    {
     "data": {
      "text/plain": [
       "<music21.stream.Score 0x2465bbf7c08>"
      ]
     },
     "execution_count": 6,
     "metadata": {},
     "output_type": "execute_result"
    }
   ],
   "source": [
    "from music21 import converter, corpus, instrument, midi, note, chord, pitch\n",
    "\n",
    "def concat_path(path, child):\n",
    "    return path + \"/\" + child\n",
    "\n",
    "def open_midi(midi_path, remove_drums):\n",
    "    # There is an one-line method to read MIDIs\n",
    "    # but to remove the drums we need to manipulate some\n",
    "    # low level MIDI events.\n",
    "    mf = midi.MidiFile()\n",
    "    mf.open(midi_path)\n",
    "    mf.read()\n",
    "    mf.close()\n",
    "    if (remove_drums):\n",
    "        for i in range(len(mf.tracks)):\n",
    "            mf.tracks[i].events = [ev for ev in mf.tracks[i].events if ev.channel != 10]          \n",
    "\n",
    "    return midi.translate.midiFileToStream(mf)\n",
    "    \n",
    "#base_midi = open_midi(concat_path(\"midi_data\", \"green-hill-zone.mid\"), True)\n",
    "base_midi = open_midi(concat_path(\"midi_data\", \"z_Pirates of the Caribbean - He's a Pirate.mid\"), True)\n",
    "base_midi"
   ]
  },
  {
   "cell_type": "code",
   "execution_count": 50,
   "id": "521d132a",
   "metadata": {},
   "outputs": [
    {
     "name": "stdout",
     "output_type": "stream",
     "text": [
      "List of instruments found on MIDI file:\n",
      "Right Hand\n",
      "Left Hand\n"
     ]
    }
   ],
   "source": [
    "def list_instruments(midi):\n",
    "    partStream = midi.parts.stream()\n",
    "    print(\"List of instruments found on MIDI file:\")\n",
    "    for p in partStream:\n",
    "        aux = p\n",
    "        print (p.partName)\n",
    "\n",
    "list_instruments(base_midi)"
   ]
  },
  {
   "cell_type": "code",
   "execution_count": 51,
   "id": "6d9d8454",
   "metadata": {},
   "outputs": [
    {
     "name": "stdout",
     "output_type": "stream",
     "text": [
      "len(ret) 27 len(parent_element) 27\n",
      "==========> len(x) 27 len(y) 27\n",
      "len(ret) 6 len(parent_element) 6\n",
      "==========> len(x) 6 len(y) 6\n"
     ]
    },
    {
     "data": {
      "image/png": "[encoded data removed]",
      "text/plain": [
       "<Figure size 1200x500 with 1 Axes>"
      ]
     },
     "metadata": {
      "image/png": {
       "height": 469,
       "width": 997
      }
     },
     "output_type": "display_data"
    }
   ],
   "source": [
    "import matplotlib.pyplot as plt\n",
    "import matplotlib.lines as mlines\n",
    "\n",
    "def extract_notes(midi_part):\n",
    "    parent_element = []\n",
    "    ret = []\n",
    "    for nt in midi_part.flat.notes:        \n",
    "        if isinstance(nt, note.Note):\n",
    "            ret.append(max(0.0, nt.pitch.ps))\n",
    "            parent_element.append(nt)\n",
    "        elif isinstance(nt, chord.Chord):\n",
    "            for pitch in nt.pitches:\n",
    "                ret.append(max(0.0, pitch.ps))\n",
    "                parent_element.append(nt)\n",
    "                \n",
    "    return ret, parent_element\n",
    "\n",
    "def print_parts_countour(midi):\n",
    "    fig = plt.figure(figsize=(12, 5))\n",
    "    ax = fig.add_subplot(1, 1, 1)\n",
    "    minPitch = pitch.Pitch('C10').ps\n",
    "    maxPitch = 0\n",
    "    xMax = 0\n",
    "    \n",
    "    # Drawing notes.\n",
    "    for i in range(len(midi.parts)):\n",
    "        top = midi.parts[i].flat.notes                  \n",
    "        y, parent_element = extract_notes(top)\n",
    "        print(\"len(ret)\", len(y), \"len(parent_element)\", len(parent_element))\n",
    "        if (len(y) < 1): continue\n",
    "            \n",
    "        x = [n.offset for n in parent_element]\n",
    "        ax.scatter(x, y, alpha=0.6, s=7)\n",
    "        \n",
    "        print(\"==========> len(x)\", len(x), \"len(y)\", len(y))\n",
    "        \n",
    "        aux = min(y)\n",
    "        if (aux < minPitch): minPitch = aux\n",
    "            \n",
    "        aux = max(y)\n",
    "        if (aux > maxPitch): maxPitch = aux\n",
    "            \n",
    "        aux = max(x)\n",
    "        if (aux > xMax): xMax = aux\n",
    "    \n",
    "    for i in range(1, 10):\n",
    "        linePitch = pitch.Pitch('C{0}'.format(i)).ps\n",
    "        if (linePitch > minPitch and linePitch < maxPitch):\n",
    "            ax.add_line(mlines.Line2D([0, xMax], [linePitch, linePitch], color='red', alpha=0.1))            \n",
    "\n",
    "    plt.ylabel(\"Note index (each octave has 12 notes)\")\n",
    "    plt.xlabel(\"Number of quarter notes (beats)\")\n",
    "    plt.title('Voices motion approximation, each color is a different instrument, red lines show each octave')\n",
    "    plt.show()\n",
    "\n",
    "# Focusing only on 6 first measures to make it easier to understand.\n",
    "print_parts_countour(base_midi.measures(0, 6))"
   ]
  },
  {
   "cell_type": "code",
   "execution_count": null,
   "id": "0ad77d13",
   "metadata": {},
   "outputs": [],
   "source": []
  },
  {
   "cell_type": "code",
   "execution_count": null,
   "id": "90bf79a0",
   "metadata": {},
   "outputs": [],
   "source": []
  },
  {
   "cell_type": "code",
   "execution_count": null,
   "id": "d4dc423e",
   "metadata": {},
   "outputs": [],
   "source": []
  },
  {
   "cell_type": "code",
   "execution_count": null,
   "id": "3d03416b",
   "metadata": {},
   "outputs": [],
   "source": []
  },
  {
   "cell_type": "code",
   "execution_count": null,
   "id": "217adcd0",
   "metadata": {},
   "outputs": [],
   "source": []
  },
  {
   "cell_type": "code",
   "execution_count": null,
   "id": "a7f4f3fc",
   "metadata": {},
   "outputs": [],
   "source": []
  },
  {
   "cell_type": "code",
   "execution_count": 11,
   "id": "b92b84b0",
   "metadata": {},
   "outputs": [
    {
     "name": "stdout",
     "output_type": "stream",
     "text": [
      "0.0\n"
     ]
    }
   ],
   "source": [
    "from difflib import SequenceMatcher\n",
    "#get content of each midi file\n",
    "\n",
    "midi_1 = open_midi(concat_path(\"midi_data\", \"z_Pirates of the Caribbean - He's a Pirate.mid\"), True)\n",
    "midi_2 = open_midi(concat_path(\"midi_data\", \"jesu1.mid\"), True)\n",
    "\n",
    "#compare them with sequence matcher\n",
    "m = SequenceMatcher(None, midi_1, midi_2)\n",
    "print(m.ratio()) #your percentage"
   ]
  },
  {
   "cell_type": "code",
   "execution_count": 13,
   "id": "aad66398",
   "metadata": {},
   "outputs": [
    {
     "name": "stdout",
     "output_type": "stream",
     "text": [
      "0.0\n"
     ]
    }
   ],
   "source": [
    "midi_1 = open_midi(concat_path(\"midi_data\", \"jesu1.mid\"), True)\n",
    "midi_2 = open_midi(concat_path(\"midi_data\", \"jesu1.mid\"), True)\n",
    "\n",
    "#compare them with sequence matcher\n",
    "m = SequenceMatcher(None, midi_1, midi_2)\n",
    "print(m.ratio()) #your percentage"
   ]
  },
  {
   "cell_type": "code",
   "execution_count": 20,
   "id": "14af9b82",
   "metadata": {},
   "outputs": [
    {
     "name": "stdout",
     "output_type": "stream",
     "text": [
      "22101\n"
     ]
    }
   ],
   "source": [
    "\n",
    "    import mido\n",
    "    import editdistance\n",
    "        \n",
    "    def manhattan_distance(list1, list2):\n",
    "        distance = 0\n",
    "        for sub1, sub2 in zip(list1, list2):\n",
    "            sub_distance = 0\n",
    "            for x, y in zip(sub1, sub2):\n",
    "                sub_distance += abs(x - y)\n",
    "            distance += sub_distance\n",
    "        return distance\n",
    "    \n",
    "    def compare_midi_files2(file1, file2):\n",
    "        # Load midi files\n",
    "        mid1 = mido.MidiFile(file1)\n",
    "        mid2 = mido.MidiFile(file2)\n",
    "    \n",
    "        # Extract notes from midi files and group adjacent pitches together\n",
    "        notes1 = []\n",
    "        for msg in mido.merge_tracks(mid1.tracks):\n",
    "            if 'note_on' in msg.type:\n",
    "                pitch = msg.note\n",
    "                if notes1 and pitch == notes1[-1][-1] + 1:\n",
    "                    # Append pitch to last group\n",
    "                    notes1[-1].append(pitch)\n",
    "                else:\n",
    "                    # Create new group for pitch\n",
    "                    notes1.append([pitch])\n",
    "    \n",
    "        notes2 = []\n",
    "        for msg in mido.merge_tracks(mid2.tracks):\n",
    "            if 'note_on' in msg.type:\n",
    "                pitch = msg.note\n",
    "                if notes2 and pitch == notes2[-1][-1] + 1:\n",
    "                    # Append pitch to last group\n",
    "                    notes2[-1].append(pitch)\n",
    "                else:\n",
    "                    # Create new group for pitch\n",
    "                    notes2.append([pitch])\n",
    "    \n",
    "        # Calculate similarity for each group of pitches\n",
    "        similarity_scores = []\n",
    "        return manhattan_distance(notes1, notes2)\n",
    "\n",
    "    original_file_path = 'midi_data/jesu1.mid'\n",
    "    generated_file_path = 'midi_data/jesu2.mid'\n",
    "    \n",
    "    similarity = compare_midi_files2(original_file_path,generated_file_path)\n",
    "    \n",
    "    print(similarity) # higher it is, the less similar files are\n",
    "    \n",
    "    "
   ]
  },
  {
   "cell_type": "code",
   "execution_count": 14,
   "id": "3a7246a2",
   "metadata": {},
   "outputs": [
    {
     "name": "stdout",
     "output_type": "stream",
     "text": [
      "<music21.stream.Score 0x2465fad0248>\n",
      "<music21.stream.Score 0x24662284b08>\n"
     ]
    }
   ],
   "source": [
    "print(midi_1)\n",
    "print(midi_2)"
   ]
  },
  {
   "cell_type": "code",
   "execution_count": 16,
   "id": "5d36536d",
   "metadata": {},
   "outputs": [
    {
     "name": "stdout",
     "output_type": "stream",
     "text": [
      "Collecting editdistance\n",
      "  Downloading editdistance-0.6.2-cp37-cp37m-win_amd64.whl (22 kB)\n",
      "Installing collected packages: editdistance\n",
      "Successfully installed editdistance-0.6.2\n",
      "Note: you may need to restart the kernel to use updated packages.\n"
     ]
    }
   ],
   "source": [
    "pip install editdistance"
   ]
  },
  {
   "cell_type": "code",
   "execution_count": null,
   "id": "d2301dc8",
   "metadata": {},
   "outputs": [],
   "source": []
  },
  {
   "cell_type": "code",
   "execution_count": null,
   "id": "d5828139",
   "metadata": {},
   "outputs": [],
   "source": []
  },
  {
   "cell_type": "code",
   "execution_count": null,
   "id": "e460a2e7",
   "metadata": {},
   "outputs": [],
   "source": []
  },
  {
   "cell_type": "code",
   "execution_count": null,
   "id": "0da226a6",
   "metadata": {},
   "outputs": [],
   "source": []
  },
  {
   "cell_type": "code",
   "execution_count": null,
   "id": "6e433210",
   "metadata": {},
   "outputs": [],
   "source": []
  },
  {
   "cell_type": "code",
   "execution_count": null,
   "id": "74db4c59",
   "metadata": {},
   "outputs": [],
   "source": []
  },
  {
   "cell_type": "code",
   "execution_count": null,
   "id": "3a59b2af",
   "metadata": {},
   "outputs": [],
   "source": []
  }
 ],
 "metadata": {
  "kernelspec": {
   "display_name": "Python 3 (ipykernel)",
   "language": "python",
   "name": "python3"
  },
  "language_info": {
   "codemirror_mode": {
    "name": "ipython",
    "version": 3
   },
   "file_extension": ".py",
   "mimetype": "text/x-python",
   "name": "python",
   "nbconvert_exporter": "python",
   "pygments_lexer": "ipython3",
   "version": "3.7.9"
  }
 },
 "nbformat": 4,
 "nbformat_minor": 5
}
